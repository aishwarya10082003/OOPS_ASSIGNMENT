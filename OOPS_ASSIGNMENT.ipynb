{
  "nbformat": 4,
  "nbformat_minor": 0,
  "metadata": {
    "colab": {
      "provenance": []
    },
    "kernelspec": {
      "name": "python3",
      "display_name": "Python 3"
    },
    "language_info": {
      "name": "python"
    }
  },
  "cells": [
    {
      "cell_type": "code",
      "execution_count": 1,
      "metadata": {
        "id": "l6vyLC5QnENA"
      },
      "outputs": [],
      "source": [
        "## Ques1-  What are the five key concepts of Object-Oriented Programming (OOP)?\n",
        "#ANS:-\n",
        "# Classes and Objects: Classes are blueprints; objects are instances of these classes.\n",
        "# Encapsulation: Bundling data and methods, restricting access to protect data.\n",
        "# Abstraction: Hiding complex details, showing only the essential features.\n",
        "# Inheritance: One class inherits properties and behaviors of another, promoting code reuse.\n",
        "# Polymorphism: One method works in different ways for different objects, enabling flexibility."
      ]
    },
    {
      "cell_type": "code",
      "source": [
        "## Ques2-  Write a Python class for a `Car` with attributes for `make`, `model`, and `year`. Include a method to display \"the car's information\"?\n",
        "#Ans:-\n",
        "class Car:\n",
        "    def __init__(self, make, model, year):\n",
        "        self.make = make\n",
        "        self.model = model\n",
        "        self.year = year\n",
        "    def display_info(self):\n",
        "        print(f\"Car Information: {self.year} {self.make} {self.model}\")\n",
        "# Example usage:\n",
        "my_car = Car(\"Toyota\", \"Corolla\", 2020)\n",
        "my_car.display_info()\n",
        "# The __init__ method initializes the car's make, model, and year attributes.\n",
        "# The display_info method prints the car's information in a formatted way."
      ],
      "metadata": {
        "colab": {
          "base_uri": "https://localhost:8080/",
          "height": 0
        },
        "id": "KSGxhNzrnLQ3",
        "outputId": "705015be-0191-4012-e80d-8d29ffece5a1"
      },
      "execution_count": 6,
      "outputs": [
        {
          "output_type": "stream",
          "name": "stdout",
          "text": [
            "Car Information: 2020 Toyota Corolla\n"
          ]
        }
      ]
    },
    {
      "cell_type": "code",
      "source": [
        "## Ques3- Explain the difference between instance methods and class methods. Provide an example of each.?\n",
        "# Ans:-\n",
        "# Instance Methods:-\n",
        "# These are the most common methods in a class.\n",
        "# They take the instance of the class (i.e., the object) as the first parameter, which is conventionally called self.\n",
        "# Instance methods can access and modify the attributes of a specific object (instance) of the class.\n",
        "# Class Methods:-\n",
        "# These methods take the class itself as the first parameter, conventionally called cls.\n",
        "# They are defined using the @classmethod decorator.\n",
        "# Class methods can modify class-level attributes (i.e., attributes shared by all instances of the class) but cannot access or modify instance-level attributes.\n",
        "class Car:\n",
        "    # Class attribute (shared by all instances)\n",
        "    car_count = 0\n",
        "    def __init__(self, make, model, year):\n",
        "        self.make = make  # Instance attribute\n",
        "        self.model = model  # Instance attribute\n",
        "        self.year = year  # Instance attribute\n",
        "        Car.car_count += 1  # Modify class attribute\n",
        "    # Instance method\n",
        "    def display_info(self):\n",
        "        print(f\"Car Information: {self.year} {self.make} {self.model}\")\n",
        "    # Class method\n",
        "    @classmethod\n",
        "    def total_cars(cls):\n",
        "        print(f\"Total number of cars: {cls.car_count}\")\n",
        "# Example usage:\n",
        "car1 = Car(\"Toyota\", \"Corolla\", 2020)\n",
        "car2 = Car(\"Honda\", \"Civic\", 2021)\n",
        "car1.display_info()  # Instance method (works on car1's attributes)\n",
        "Car.total_cars()  # Class method (works on the class attribute)\n",
        "# Instance Method >> display_info works on individual objects and can access their specific attributes.\n",
        "# Class Method >> total_cars works on the class and can access class-level attributes like car_count."
      ],
      "metadata": {
        "colab": {
          "base_uri": "https://localhost:8080/",
          "height": 0
        },
        "id": "AYZHhZYC6cBT",
        "outputId": "ff9d4f37-8e97-4623-cf85-7dc1d278997e"
      },
      "execution_count": 7,
      "outputs": [
        {
          "output_type": "stream",
          "name": "stdout",
          "text": [
            "Car Information: 2020 Toyota Corolla\n",
            "Total number of cars: 2\n"
          ]
        }
      ]
    },
    {
      "cell_type": "code",
      "source": [
        "# Ques4- How does Python implement method overloading? Give an example?\n",
        "# Ans:-\n",
        "# Python does not support traditional method overloading like some other programming languages (e.g., Java or C++), where you can define multiple methods with the same name but different parameter lists. Instead, Python handles method overloading using default parameters, *args, or **kwargs to create flexible functions or methods that can handle different types and numbers of arguments.\n",
        "# Example:-\n",
        "class Calculator:\n",
        "    # Method with default and variable arguments to simulate overloading\n",
        "   def add(self, a, b=None, c=None):\n",
        "        if b is None:\n",
        "            return a  # Case where only one argument is provided\n",
        "        elif c is None:\n",
        "            return a + b  # Case where two arguments are provided\n",
        "        else:\n",
        "            return a + b + c  # Case where three arguments are provided\n",
        "# Example usage\n",
        "calc = Calculator()\n",
        "print(calc.add(5))        # Output: 5 (one argument)\n",
        "print(calc.add(5, 10))    # Output: 15 (two arguments)\n",
        "print(calc.add(5, 10, 15)) # Output: 30 (three arguments)\n",
        "# Default Parameters: In the example, the parameters b and c are set to None by default, allowing the method to handle different numbers of arguments.\n",
        "# Simulating Overloading: By checking the number of arguments provided and adjusting behavior accordingly, Python simulates method overloading without true support for it."
      ],
      "metadata": {
        "colab": {
          "base_uri": "https://localhost:8080/",
          "height": 0
        },
        "id": "x338cXXL6cJ6",
        "outputId": "198155f0-54d1-414f-809e-cf5d66cfaaed"
      },
      "execution_count": 9,
      "outputs": [
        {
          "output_type": "stream",
          "name": "stdout",
          "text": [
            "5\n",
            "15\n",
            "30\n"
          ]
        }
      ]
    },
    {
      "cell_type": "code",
      "source": [
        "# Ques5- What are the three types of access modifiers in Python? How are they denoted?\n",
        "# Ans:-\n",
        "# Public-\n",
        "# Denoted by: No special prefix (default).\n",
        "# Access: Can be accessed from anywhere, both inside and outside the class.\n",
        "# Example:-\n",
        "class Example:\n",
        "    def __init__(self):\n",
        "        self.public_var = \"I am public\"\n",
        "obj = Example()\n",
        "print(obj.public_var)  # Accessible from outside the class\n",
        "# Protected\n",
        "# Denoted by: A single underscore _ before the attribute or method name.\n",
        "# Access: Intended to be accessible within the class and its subclasses. It is more of a convention rather than enforced, meaning it can still be accessed from outside the class but with the understanding that it should not be modified directly.\n",
        "# Example:-\n",
        "class Example:\n",
        "    def __init__(self):\n",
        "        self._protected_var = \"I am protected\"\n",
        "obj = Example()\n",
        "print(obj._protected_var)  # Can be accessed, but by convention should not be\n",
        "# Private\n",
        "# Denoted by: Two underscores __ before the attribute or method name.\n",
        "# Access: Cannot be accessed directly from outside the class. Python uses name mangling to make it harder to access, but it can still be accessed indirectly if needed##\n",
        "# Example:-\n",
        "class Example:\n",
        "    def __init__(self):\n",
        "        self.__private_var = \"I am private\"\n",
        "obj = Example()\n",
        "# print(obj.__private_var)  # This will raise an AttributeError\n",
        "# Can be accessed using name mangling\n",
        "print(obj._Example__private_var)  # Name mangling allows indirect access\n",
        "# Public: No special prefix (self.var) — accessible from anywhere.\n",
        "# rotected: Single underscore (self._var) — intended for internal use, accessible but discouraged from outside.\n",
        "# Private: Double underscore (self.__var) — not accessible directly from outside, but can be accessed via name mangling."
      ],
      "metadata": {
        "colab": {
          "base_uri": "https://localhost:8080/",
          "height": 0
        },
        "id": "sW9habSl_r25",
        "outputId": "007adb34-5773-47e2-b2a8-c3d09431ed2c"
      },
      "execution_count": 10,
      "outputs": [
        {
          "output_type": "stream",
          "name": "stdout",
          "text": [
            "I am public\n",
            "I am protected\n",
            "I am private\n"
          ]
        }
      ]
    },
    {
      "cell_type": "code",
      "source": [
        "# Ques6- Describe the five types of inheritance in Python. Provide a simple example of multiple inheritance?\n",
        "# Ans:-\n",
        "# Single Inheritance >> a single child class inherits from a single parent class.\n",
        "# Example:-\n",
        "class Parent:\n",
        "    def display(self):\n",
        "        print(\"This is the Parent class\")\n",
        "class Child(Parent):\n",
        "    pass\n",
        "obj = Child()\n",
        "obj.display()  # Output: This is the Parent class\n",
        "# --------------------------------------------------------------------------------------------------------------------------------------------------------\n",
        "# Multiple Inheritance >>  A child class inherits from more than one parent class.\n",
        "# Example:-\n",
        "class ClassA:\n",
        "    def method_a(self):\n",
        "        print(\"Method from Class A\")\n",
        "class ClassB:\n",
        "    def method_b(self):\n",
        "        print(\"Method from Class B\")\n",
        "class ClassC(ClassA, ClassB):  # Multiple inheritance from ClassA and ClassB\n",
        "    pass\n",
        "# Example usage:\n",
        "obj = ClassC()\n",
        "obj.method_a()  # Output: Method from Class A\n",
        "obj.method_b()  # Output: Method from Class B\n",
        "# --------------------------------------------------------------------------------------------------------------------------------------------------------\n",
        "# Multilevel Inheritance >>  A child class inherits from a parent class, and this parent class is itself derived from another parent class (a chain of inheritance).\n",
        "# Example:-\n",
        "class Grandparent:\n",
        "    def display_grandparent(self):\n",
        "        print(\"This is the Grandparent class\")\n",
        "class Parent(Grandparent):\n",
        "    def display_parent(self):\n",
        "        print(\"This is the Parent class\")\n",
        "class Child(Parent):\n",
        "    pass\n",
        "obj = Child()\n",
        "obj.display_grandparent()  # Output: This is the Grandparent class\n",
        "obj.display_parent()       # Output: This is the Parent class\n",
        "# --------------------------------------------------------------------------------------------------------------------------------------------------------\n",
        "# Hierarchical Inheritance >> Multiple child classes inherit from the same parent class.\n",
        "# Example:-\n",
        "class Parent:\n",
        "    def display(self):\n",
        "        print(\"This is the Parent class\")\n",
        "class Child1(Parent):\n",
        "    pass\n",
        "class Child2(Parent):\n",
        "    pass\n",
        "obj1 = Child1()\n",
        "obj2 = Child2()\n",
        "obj1.display()  # Output: This is the Parent class\n",
        "obj2.display()  # Output: This is the Parent class\n",
        "# --------------------------------------------------------------------------------------------------------------------------------------------------------\n",
        "# Hybrid Inheritance >> A combination of two or more types of inheritance, typically a mix of hierarchical and multiple inheritance.\n",
        "# Example:-\n",
        "class Parent:\n",
        "    def display(self):\n",
        "        print(\"This is the Parent class\")\n",
        "class Child1(Parent):\n",
        "    pass\n",
        "class Child2(Parent):\n",
        "    pass\n",
        "class Grandchild(Child1, Child2):\n",
        "    pass\n",
        "obj = Grandchild()\n",
        "obj.display()  # Output: This is the Parent class\n",
        "# Single Inheritance: One parent, one child.\n",
        "# Multiple Inheritance: Multiple parents, one child.\n",
        "# Multilevel Inheritance: Inheritance chain (grandparent -> parent -> child).\n",
        "# Hierarchical Inheritance: Multiple children inheriting from the same parent.\n",
        "# Hybrid Inheritance: Combination of multiple types of inheritance.\n",
        "# In multiple inheritance, Python uses the Method Resolution Order (MRO) to determine the order in which parent class methods are called when there's ambiguity."
      ],
      "metadata": {
        "colab": {
          "base_uri": "https://localhost:8080/",
          "height": 0
        },
        "id": "g22m4BWdApBL",
        "outputId": "429a33e1-1df2-44e3-83dd-5e7221623eff"
      },
      "execution_count": 11,
      "outputs": [
        {
          "output_type": "stream",
          "name": "stdout",
          "text": [
            "This is the Parent class\n",
            "Method from Class A\n",
            "Method from Class B\n",
            "This is the Grandparent class\n",
            "This is the Parent class\n",
            "This is the Parent class\n",
            "This is the Parent class\n",
            "This is the Parent class\n"
          ]
        }
      ]
    },
    {
      "cell_type": "code",
      "source": [
        "# Ques7- What is the Method Resolution Order (MRO) in Python? How can you retrieve it programmatically?\n",
        "# Ans:-\n",
        "# The Method Resolution Order (MRO) is the order in which Python looks for a method or attribute when it is called on an instance of a class. This is particularly important in the case of multiple inheritance, where a class may inherit from multiple parent classes.\n",
        "# We can retrieve the MRO in Python using:\n",
        "# The __mro__ attribute: This is a tuple of classes in the order they are searched for methods.\n",
        "# The mro() method: This returns a list of classes in the method resolution order.\n",
        "# The help() function: It displays the MRO among other class information.\n",
        "# Example:-\n",
        "class A:\n",
        "    def method(self):\n",
        "        print(\"Method in A\")\n",
        "class B(A):\n",
        "    def method(self):\n",
        "        print(\"Method in B\")\n",
        "class C(A):\n",
        "    def method(self):\n",
        "        print(\"Method in C\")\n",
        "class D(B, C):\n",
        "    pass\n",
        "# Retrieving MRO\n",
        "print(D.__mro__)  # Using __mro__ attribute\n",
        "print(D.mro())    # Using mro() method\n",
        "# Output:\n",
        "# (<class '__main__.D'>, <class '__main__.B'>, <class '__main__.C'>, <class '__main__.A'>, <class 'object'>)\n",
        "# You can also use the help function:\n",
        "help(D)\n",
        "# The MRO for class D in this example is: D -> B -> C -> A -> object.\n",
        "# First: The method is searched in class D.\n",
        "# Then: It looks in B, followed by C, and then A.\n",
        "# Finally: If nothing is found, it falls back to the base class object.\n",
        "# Key Points:\n",
        "# he MRO ensures a predictable and conflict-free method lookup.\n",
        "# You can retrieve it with __mro__, mro(), or help().\n",
        "# Python follows the C3 linearization algorithm to compute the MRO in cases of multiple inheritance."
      ],
      "metadata": {
        "colab": {
          "base_uri": "https://localhost:8080/",
          "height": 0
        },
        "id": "kSEgcvWyBlDr",
        "outputId": "f65ad882-dfbc-49e6-b521-a80b4663cf46"
      },
      "execution_count": 12,
      "outputs": [
        {
          "output_type": "stream",
          "name": "stdout",
          "text": [
            "(<class '__main__.D'>, <class '__main__.B'>, <class '__main__.C'>, <class '__main__.A'>, <class 'object'>)\n",
            "[<class '__main__.D'>, <class '__main__.B'>, <class '__main__.C'>, <class '__main__.A'>, <class 'object'>]\n",
            "Help on class D in module __main__:\n",
            "\n",
            "class D(B, C)\n",
            " |  Method resolution order:\n",
            " |      D\n",
            " |      B\n",
            " |      C\n",
            " |      A\n",
            " |      builtins.object\n",
            " |  \n",
            " |  Methods inherited from B:\n",
            " |  \n",
            " |  method(self)\n",
            " |  \n",
            " |  ----------------------------------------------------------------------\n",
            " |  Data descriptors inherited from A:\n",
            " |  \n",
            " |  __dict__\n",
            " |      dictionary for instance variables (if defined)\n",
            " |  \n",
            " |  __weakref__\n",
            " |      list of weak references to the object (if defined)\n",
            "\n"
          ]
        }
      ]
    },
    {
      "cell_type": "code",
      "source": [
        "# Ques8- Create an abstract base class `Shape` with an abstract method `area()`. Then create two subclasses`Circle` and `Rectangle` that implement the `area()` method ?\n",
        "# Ans:-\n",
        "from abc import ABC, abstractmethod\n",
        "import math\n",
        "# Abstract base class\n",
        "class Shape(ABC):\n",
        "    @abstractmethod\n",
        "    def area(self):\n",
        "        pass  # Abstract method, must be implemented by subclasses\n",
        "# Subclass Circle implementing the area() method\n",
        "class Circle(Shape):\n",
        "    def __init__(self, radius):\n",
        "        self.radius = radius\n",
        "    def area(self):\n",
        "        return math.pi * self.radius ** 2  # Area of a circle: πr²\n",
        "# Subclass Rectangle implementing the area() method\n",
        "class Rectangle(Shape):\n",
        "    def __init__(self, width, height):\n",
        "        self.width = width\n",
        "        self.height = height\n",
        "    def area(self):\n",
        "        return self.width * self.height  # Area of a rectangle: width * height\n",
        "# Example usage\n",
        "circle = Circle(5)\n",
        "rectangle = Rectangle(4, 6)\n",
        "print(f\"Circle area: {circle.area()}\")      # Output: Circle area: 78.54 (approx)\n",
        "print(f\"Rectangle area: {rectangle.area()}\") # Output: Rectangle area: 24"
      ],
      "metadata": {
        "colab": {
          "base_uri": "https://localhost:8080/",
          "height": 0
        },
        "id": "g9-S_uu2ECg4",
        "outputId": "8b90b6e6-580d-46d3-960d-19ae5ff04417"
      },
      "execution_count": 13,
      "outputs": [
        {
          "output_type": "stream",
          "name": "stdout",
          "text": [
            "Circle area: 78.53981633974483\n",
            "Rectangle area: 24\n"
          ]
        }
      ]
    },
    {
      "cell_type": "code",
      "source": [
        "# Ques9-  Demonstrate polymorphism by creating a function that can work with different shape objects to calculate and print their areas ?\n",
        "# Ans:-\n",
        "from abc import ABC, abstractmethod\n",
        "import math\n",
        "# Abstract base class\n",
        "class Shape(ABC):\n",
        "    @abstractmethod\n",
        "    def area(self):\n",
        "        pass  # Abstract method, must be implemented by subclasses\n",
        "# Subclass Circle implementing the area() method\n",
        "class Circle(Shape):\n",
        "    def __init__(self, radius):\n",
        "        self.radius = radius\n",
        "    def area(self):\n",
        "        return math.pi * self.radius ** 2  # Area of a circle: πr²\n",
        "# Subclass Rectangle implementing the area() method\n",
        "class Rectangle(Shape):\n",
        "    def __init__(self, width, height):\n",
        "        self.width = width\n",
        "        self.height = height\n",
        "    def area(self):\n",
        "        return self.width * self.height  # Area of a rectangle: width * height\n",
        "# Function that demonstrates polymorphism\n",
        "def print_area(shape: Shape):\n",
        "    print(f\"The area is: {shape.area()}\")\n",
        "# Example usage\n",
        "circle = Circle(5)\n",
        "rectangle = Rectangle(4, 6)\n",
        "print_area(circle)      # Output: The area is: 78.53981633974483\n",
        "print_area(rectangle)   # Output: The area is: 24"
      ],
      "metadata": {
        "colab": {
          "base_uri": "https://localhost:8080/",
          "height": 0
        },
        "id": "RC-oZTZ4EV9w",
        "outputId": "10e0aebc-b61f-4952-cbe7-cf900b2578b5"
      },
      "execution_count": 14,
      "outputs": [
        {
          "output_type": "stream",
          "name": "stdout",
          "text": [
            "The area is: 78.53981633974483\n",
            "The area is: 24\n"
          ]
        }
      ]
    },
    {
      "cell_type": "code",
      "source": [
        "# Ques10-  Implement encapsulation in a `BankAccount` class with private attributes for `balance` and `account_number`. Include methods for deposit, withdrawal, and balance inquiry?\n",
        "# Ans:-\n",
        "from abc import ABC, abstractmethod\n",
        "import math\n",
        "# Abstract base class\n",
        "class Shape(ABC):\n",
        "    @abstractmethod\n",
        "    def area(self):\n",
        "        pass  # Abstract method, must be implemented by subclasses\n",
        "# Subclass Circle implementing the area() method\n",
        "class Circle(Shape):\n",
        "    def __init__(self, radius):\n",
        "        self.radius = radius\n",
        "    def area(self):\n",
        "        return math.pi * self.radius ** 2  # Area of a circle: πr²\n",
        "# Subclass Rectangle implementing the area() method\n",
        "class Rectangle(Shape):\n",
        "    def __init__(self, width, height):\n",
        "        self.width = width\n",
        "        self.height = height\n",
        "    def area(self):\n",
        "        return self.width * self.height  # Area of a rectangle: width * height\n",
        "# Function that demonstrates polymorphism\n",
        "def print_area(shape: Shape):\n",
        "    print(f\"The area is: {shape.area()}\")\n",
        "# Example usage\n",
        "circle = Circle(5)\n",
        "rectangle = Rectangle(4, 6)\n",
        "print_area(circle)      # Output: The area is: 78.53981633974483\n",
        "print_area(rectangle)   # Output: The area is: 24"
      ],
      "metadata": {
        "colab": {
          "base_uri": "https://localhost:8080/",
          "height": 0
        },
        "id": "dnRw_4EAFbf-",
        "outputId": "a9cc2864-f9ed-42f4-c74c-9071ffe70397"
      },
      "execution_count": 15,
      "outputs": [
        {
          "output_type": "stream",
          "name": "stdout",
          "text": [
            "The area is: 78.53981633974483\n",
            "The area is: 24\n"
          ]
        }
      ]
    },
    {
      "cell_type": "code",
      "source": [
        "# Ques11- Write a class that overrides the `__str__` and `__add__` magic methods. What will these methods allow\n",
        "# Ams:-\n",
        "class Vector:\n",
        "    def __init__(self, x, y):\n",
        "        self.x = x\n",
        "        self.y = y\n",
        "    def __str__(self):\n",
        "        return f\"Vector({self.x}, {self.y})\"\n",
        "    def __add__(self, other):\n",
        "        if isinstance(other, Vector):\n",
        "            return Vector(self.x + other.x, self.y + other.y)\n",
        "        return NotImplemented\n",
        "# Example usage\n",
        "v1 = Vector(1, 2)\n",
        "v2 = Vector(3, 4)\n",
        "# Using __str__ method\n",
        "print(v1)  # Output: Vector(1, 2)\n",
        "# Using __add__ method\n",
        "v3 = v1 + v2\n",
        "print(v3)  # Output: Vector(4, 6)\n",
        "# __str__: Allows you to customize the string representation of an object, making it more readable or informative when converted to a string or printed.\n",
        "# __add__: Allows you to define how the + operator works with instances of your class, enabling custom behavior for addition operations."
      ],
      "metadata": {
        "colab": {
          "base_uri": "https://localhost:8080/",
          "height": 0
        },
        "id": "Zbyt5RNFFx7m",
        "outputId": "334fa097-0b01-4363-cff5-68dfce17936b"
      },
      "execution_count": 17,
      "outputs": [
        {
          "output_type": "stream",
          "name": "stdout",
          "text": [
            "Vector(1, 2)\n",
            "Vector(4, 6)\n"
          ]
        }
      ]
    },
    {
      "cell_type": "code",
      "source": [
        "# Ques12:- Create a decorator that measures and prints the execution time of a function.\n",
        "# Ans:-\n",
        "import time\n",
        "from functools import wraps\n",
        "def timing_decorator(func):\n",
        "    @wraps(func)\n",
        "    def wrapper(*args, **kwargs):\n",
        "        start_time = time.time()  # Record start time\n",
        "        result = func(*args, **kwargs)  # Call the actual function\n",
        "        end_time = time.time()  # Record end time\n",
        "        execution_time = end_time - start_time  # Calculate the execution time\n",
        "        print(f\"Function '{func.__name__}' took {execution_time:.4f} seconds to execute.\")\n",
        "        return result\n",
        "    return wrapper\n",
        "# Example usage\n",
        "@timing_decorator\n",
        "def example_function(n):\n",
        "    total = 0\n",
        "    for i in range(n):\n",
        "        total += i\n",
        "    return total\n",
        "# Calling the function\n",
        "result = example_function(1000000)\n",
        "print(f\"Result: {result}\")\n",
        "# Decorator Definition (timing_decorator):\n",
        "# The timing_decorator function takes a function func as an argument.\n",
        "# Inside timing_decorator, a nested wrapper function is defined. This function will replace the original function but with additional functionality.\n",
        "\n",
        "# Wrapper Function:\n",
        "# @wraps(func) is used to ensure that the metadata of the original function (like its name and docstring) is preserved in the wrapper function.\n",
        "# start_time = time.time() records the current time before the function execution.\n",
        "# result = func(*args, **kwargs) calls the original function with its arguments and stores the result.\n",
        "# end_time = time.time() records the time after the function execution.\n",
        "# execution_time = end_time - start_time calculates the total time taken.\n",
        "# print(f\"Function '{func.__name__}' took {execution_time:.4f} seconds to execute.\") prints the execution time.\n",
        "# return result ensures that the original function's return value is preserved and returned.\n",
        "\n",
        "# Usage:\n",
        "# The @timing_decorator syntax is used to apply the decorator to example_function.\n",
        "# When example_function is called, the decorator prints the time it took to execute the function.\n",
        "# This approach helps in measuring and analyzing the performance of functions in a Python application."
      ],
      "metadata": {
        "colab": {
          "base_uri": "https://localhost:8080/",
          "height": 0
        },
        "id": "gN02AB5OF7K9",
        "outputId": "afa73071-e747-4046-d87e-9f25099af93a"
      },
      "execution_count": 19,
      "outputs": [
        {
          "output_type": "stream",
          "name": "stdout",
          "text": [
            "Function 'example_function' took 0.0702 seconds to execute.\n",
            "Result: 499999500000\n"
          ]
        }
      ]
    },
    {
      "cell_type": "code",
      "source": [
        "# Ques13:- Explain the concept of the Diamond Problem in multiple inheritance. How does Python resolve it?\n",
        "#Ans:-\n",
        "# The Diamond Problem is a classic issue in object-oriented programming that arises with multiple inheritance. It occurs when a class inherits from two classes that both inherit from a common base class.\n",
        "# Python resolves it by:\n",
        "# Linearization:\n",
        "# The C3 linearization algorithm produces a linear ordering of classes that preserves the order of inheritance and ensures that each class is visited only once in a consistent order.\n",
        "\n",
        "#Method Resolution Order (MRO):\n",
        "# The MRO is computed based on the C3 algorithm and ensures that methods are resolved in a predictable order.\n",
        "\n",
        "# Implementation:\n",
        "# You can retrieve the MRO of a class using the __mro__ attribute or the mro() method.\n",
        "class A:\n",
        "    def show(self):\n",
        "        print(\"Class A\")\n",
        "class B(A):\n",
        "    def show(self):\n",
        "        print(\"Class B\")\n",
        "class C(A):\n",
        "    def show(self):\n",
        "        print(\"Class C\")\n",
        "class D(B, C):\n",
        "    pass\n",
        "# Example usage\n",
        "d = D()\n",
        "d.show()  # Output: Class B\n",
        "# Print the MRO\n",
        "print(D.__mro__)  # Output: (<class '__main__.D'>, <class '__main__.B'>, <class '__main__.C'>, <class '__main__.A'>, <class 'object'>)\n",
        "print(D.mro())    # Output: [<class '__main__.D'>, <class '__main__.B'>, <class '__main__.C'>, <class '__main__.A'>, <class 'object'>]\n",
        "\n",
        "# MRO Computation:\n",
        "# Python uses the C3 linearization to compute the MRO: [D, B, C, A, object].\n",
        "# When d.show() is called, Python follows the MRO and finds the show method in B before checking C and A.\n",
        "\n",
        "# MRO Output:\n",
        "# D.__mro__ and D.mro() show the order in which classes are searched for method resolution."
      ],
      "metadata": {
        "colab": {
          "base_uri": "https://localhost:8080/",
          "height": 0
        },
        "id": "R2E6nTc7GZ5Z",
        "outputId": "63b72496-c3d1-4f63-d86f-3d65ffefb89a"
      },
      "execution_count": 20,
      "outputs": [
        {
          "output_type": "stream",
          "name": "stdout",
          "text": [
            "Class B\n",
            "(<class '__main__.D'>, <class '__main__.B'>, <class '__main__.C'>, <class '__main__.A'>, <class 'object'>)\n",
            "[<class '__main__.D'>, <class '__main__.B'>, <class '__main__.C'>, <class '__main__.A'>, <class 'object'>]\n"
          ]
        }
      ]
    },
    {
      "cell_type": "code",
      "source": [
        "# Ques14: Write a class method that keeps track of the number of instances created from a class.\n",
        "# Ans:-\n",
        "class InstanceCounter:\n",
        "    # Class attribute to keep track of the number of instances\n",
        "    instance_count = 0\n",
        "    def __init__(self):\n",
        "        # Increment the instance count whenever a new instance is created\n",
        "        InstanceCounter.instance_count += 1\n",
        "    @classmethod\n",
        "    def get_instance_count(cls):\n",
        "        # Return the current number of instances\n",
        "        return cls.instance_count\n",
        "# Example usage\n",
        "obj1 = InstanceCounter()\n",
        "obj2 = InstanceCounter()\n",
        "obj3 = InstanceCounter()\n",
        "print(f\"Number of instances created: {InstanceCounter.get_instance_count()}\")  # Output: 3\n",
        "# Class Attribute (instance_count):\n",
        "\n",
        "# instance_count is a class attribute used to track the number of instances created.\n",
        "# __init__ Method:\n",
        "\n",
        "# Each time an InstanceCounter object is instantiated, the __init__ method increments the instance_count class attribute by 1.\n",
        "# Class Method (get_instance_count):\n",
        "\n",
        "# get_instance_count is a class method defined with the @classmethod decorator. It takes cls as its first parameter, representing the class itself.\n",
        "# This method returns the value of instance_count, which is the number of instances created.\n",
        "# Example Usage:\n",
        "\n",
        "# Three instances of InstanceCounter are created (obj1, obj2, obj3).\n",
        "# InstanceCounter.get_instance_count() returns 3, which is the total number of instances created."
      ],
      "metadata": {
        "colab": {
          "base_uri": "https://localhost:8080/",
          "height": 0
        },
        "id": "ai3wFV1oG-5V",
        "outputId": "bff0b68f-d566-45bc-c3c9-2f15862c12b3"
      },
      "execution_count": 21,
      "outputs": [
        {
          "output_type": "stream",
          "name": "stdout",
          "text": [
            "Number of instances created: 3\n"
          ]
        }
      ]
    }
  ]
}